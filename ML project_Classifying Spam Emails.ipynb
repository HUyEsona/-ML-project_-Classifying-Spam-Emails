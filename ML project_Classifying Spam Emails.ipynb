{
 "cells": [
  {
   "cell_type": "markdown",
   "metadata": {},
   "source": [
    "# source code github\n",
    "\n",
    "github: https://github.com/HUyEsona/-ML-project_-Classifying-Spam-Emails.git"
   ]
  },
  {
   "cell_type": "markdown",
   "metadata": {},
   "source": [
    "# Spam Detection with Logistic Regression\n",
    "\n",
    "# Step 1: Nhập thư viện"
   ]
  },
  {
   "cell_type": "code",
   "execution_count": 35,
   "metadata": {},
   "outputs": [],
   "source": [
    "import numpy as np\n",
    "import pandas as pd\n",
    "from sklearn.model_selection import train_test_split\n",
    "from sklearn.feature_extraction.text import TfidfVectorizer\n",
    "from sklearn.metrics import accuracy_score\n",
    "from scipy.sparse import csr_matrix"
   ]
  },
  {
   "cell_type": "markdown",
   "metadata": {},
   "source": [
    "# Step 2: Logistic Regression Class (Lớp hồi quy logistic)\n",
    "\n",
    "Xác định mô hình hồi quy logistic với tối ưu hóa giảm độ dốc."
   ]
  },
  {
   "cell_type": "code",
   "execution_count": 36,
   "metadata": {},
   "outputs": [],
   "source": [
    "class LogisticRegression:\n",
    "    def __init__(self, learning_rate=0.01, num_iterations=1000):\n",
    "        self.learning_rate = learning_rate\n",
    "        self.num_iterations = num_iterations\n",
    "        self.weights = None\n",
    "        self.bias = None\n",
    "        self.loss_history = []\n",
    "\n",
    "    def sigmoid(self, z):\n",
    "        return 1 / (1 + np.exp(-z))\n",
    "\n",
    "    def compute_loss(self, y_pred, y):\n",
    "        epsilon = 1e-10\n",
    "        loss = -np.mean(y * np.log(y_pred + epsilon) + (1 - y) * np.log(1 - y_pred + epsilon))\n",
    "        return loss\n",
    "\n",
    "    def fit(self, X, y):\n",
    "        num_samples, num_features = X.shape\n",
    "        if isinstance(X, csr_matrix):\n",
    "            X = X.toarray()\n",
    "        self.weights = np.zeros(num_features)\n",
    "        self.bias = 0\n",
    "        for _ in range(self.num_iterations):\n",
    "            linear_model = np.dot(X, self.weights) + self.bias\n",
    "            y_pred = self.sigmoid(linear_model)\n",
    "            loss = self.compute_loss(y_pred, y)\n",
    "            self.loss_history.append(loss)\n",
    "            dw = (1 / num_samples) * np.dot(X.T, (y_pred - y))\n",
    "            db = (1 / num_samples) * np.sum(y_pred - y)\n",
    "            self.weights -= self.learning_rate * dw\n",
    "            self.bias -= self.learning_rate * db\n",
    "\n",
    "    def predict(self, X):\n",
    "        if isinstance(X, csr_matrix):\n",
    "            X = X.toarray()\n",
    "        linear_model = np.dot(X, self.weights) + self.bias\n",
    "        y_pred = self.sigmoid(linear_model)\n",
    "        y_pred_class = np.where(y_pred > 0.5, 1, 0)\n",
    "        return y_pred_class\n"
   ]
  },
  {
   "cell_type": "markdown",
   "metadata": {},
   "source": [
    "# Step 3: Tải và xử lý trước dữ liệu"
   ]
  },
  {
   "cell_type": "code",
   "execution_count": 37,
   "metadata": {},
   "outputs": [],
   "source": [
    "raw_mail_data = pd.read_csv('mail_SPAM_data.csv')\n",
    "\n",
    "mail_data = raw_mail_data.where((pd.notnull(raw_mail_data)), '')\n",
    "\n",
    "\n",
    "mail_data.loc[mail_data['Category'] == 'spam', 'Category'] = 0\n",
    "mail_data.loc[mail_data['Category'] == 'ham', 'Category'] = 1\n",
    "\n",
    "X = mail_data['Message']\n",
    "Y = mail_data['Category'].astype(int)\n"
   ]
  },
  {
   "cell_type": "markdown",
   "metadata": {},
   "source": [
    "# Step 4: Tách thử nghiệm đào tạo và trích xuất tính năng"
   ]
  },
  {
   "cell_type": "code",
   "execution_count": 38,
   "metadata": {},
   "outputs": [],
   "source": [
    "X_train, X_test, Y_train, Y_test = train_test_split(X, Y, test_size=0.2, random_state=5)\n",
    "\n",
    "feature_extraction = TfidfVectorizer(min_df=1, stop_words='english', lowercase=True)\n",
    "X_train_feature = feature_extraction.fit_transform(X_train)\n",
    "X_test_features = feature_extraction.transform(X_test)\n"
   ]
  },
  {
   "cell_type": "markdown",
   "metadata": {},
   "source": [
    "# Step 5: Huấn luyện mô hình hồi quy logistic"
   ]
  },
  {
   "cell_type": "code",
   "execution_count": 39,
   "metadata": {},
   "outputs": [],
   "source": [
    "model = LogisticRegression()\n",
    "model.fit(X_train_feature, Y_train)\n"
   ]
  },
  {
   "cell_type": "markdown",
   "metadata": {},
   "source": [
    "# Step 6: DỰ ĐOÁN TIN NHẮN "
   ]
  },
  {
   "cell_type": "code",
   "execution_count": 40,
   "metadata": {},
   "outputs": [
    {
     "name": "stdout",
     "output_type": "stream",
     "text": [
      "                                                Message Prediction\n",
      "0     Go until jurong point, crazy.. Available only ...        Ham\n",
      "1                         Ok lar... Joking wif u oni...        Ham\n",
      "2     Free entry in 2 a wkly comp to win FA Cup fina...        Ham\n",
      "3     U dun say so early hor... U c already then say...        Ham\n",
      "4     Nah I don't think he goes to usf, he lives aro...        Ham\n",
      "...                                                 ...        ...\n",
      "5567  This is the 2nd time we have tried 2 contact u...        Ham\n",
      "5568               Will ü b going to esplanade fr home?        Ham\n",
      "5569  Pity, * was in mood for that. So...any other s...        Ham\n",
      "5570  The guy did some bitching but I acted like i'd...        Ham\n",
      "5571                         Rofl. Its true to its name        Ham\n",
      "\n",
      "[5572 rows x 2 columns]\n"
     ]
    }
   ],
   "source": [
    "file_name = input(\"Nhập path file CSV chứa dữ liệu cần dự đoán: \")\n",
    "\n",
    "new_mail_data = pd.read_csv(file_name)\n",
    "new_messages = new_mail_data['Message']\n",
    "new_messages_features = feature_extraction.transform(new_messages)\n",
    "\n",
    "new_predictions = model.predict(new_messages_features)\n",
    "\n",
    "new_mail_data['Prediction'] = new_predictions\n",
    "new_mail_data['Prediction'] = new_mail_data['Prediction'].map({1: 'Ham', 0: 'Spam'})\n",
    "\n",
    "print(new_mail_data[['Message', 'Prediction']])\n"
   ]
  },
  {
   "cell_type": "markdown",
   "metadata": {},
   "source": [
    "kết quả in ra "
   ]
  }
 ],
 "metadata": {
  "kernelspec": {
   "display_name": "myvenv",
   "language": "python",
   "name": "python3"
  },
  "language_info": {
   "codemirror_mode": {
    "name": "ipython",
    "version": 3
   },
   "file_extension": ".py",
   "mimetype": "text/x-python",
   "name": "python",
   "nbconvert_exporter": "python",
   "pygments_lexer": "ipython3",
   "version": "3.13.0"
  }
 },
 "nbformat": 4,
 "nbformat_minor": 2
}
